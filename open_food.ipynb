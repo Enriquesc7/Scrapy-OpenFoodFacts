{
 "cells": [
  {
   "cell_type": "code",
   "execution_count": 1,
   "metadata": {},
   "outputs": [],
   "source": [
    "import pandas as pd\n",
    "import json"
   ]
  },
  {
   "cell_type": "code",
   "execution_count": 2,
   "metadata": {},
   "outputs": [],
   "source": [
    "def clean_element_emballage(elements, materials):\n",
    "    new_materials = [item.replace('\\n', '').strip() for item in materials]\n",
    "    new_materials = [item for item in new_materials if item]\n",
    "\n",
    "    new_elements = [item.replace('\\n', '').strip() for item in elements]\n",
    "    new_elements = [item for item in new_elements if item]\n",
    "\n",
    "    return new_elements, new_materials"
   ]
  },
  {
   "cell_type": "code",
   "execution_count": 3,
   "metadata": {},
   "outputs": [],
   "source": [
    "def combine_elements_and_materials(elements, materials):\n",
    "    combined_list = []\n",
    "    \n",
    "    if len(elements) == len(materials):\n",
    "        # Cuando las longitudes son iguales\n",
    "        for element, material in zip(elements, materials):\n",
    "            combined_string = f\"{material} : {element}\"\n",
    "            combined_list.append(combined_string)\n",
    "    elif len(materials) * 2 == len(elements):\n",
    "        # Cuando la longitud de 'elements' es el doble de 'materials'\n",
    "        for i in range(len(materials)):\n",
    "            quantity = elements[2 * i]\n",
    "            weight = elements[2 * i + 1]\n",
    "            material = materials[i]\n",
    "            combined_string = f\"{quantity} {material} : {weight}\"\n",
    "            combined_list.append(combined_string)\n",
    "    else:\n",
    "        print(\"Las listas no tienen una relación 1:1 o 1:2.\")\n",
    "        print(elements)\n",
    "        print(materials)\n",
    "    \n",
    "    return combined_list"
   ]
  },
  {
   "cell_type": "code",
   "execution_count": 4,
   "metadata": {},
   "outputs": [],
   "source": [
    "def update_json_file(file_path):\n",
    "    # Cargar el JSON\n",
    "    with open(file_path, 'r', encoding='utf-8') as file:\n",
    "        data = json.load(file)\n",
    "\n",
    "    # Modificar cada producto en el JSON\n",
    "    for product in data:\n",
    "        elements = product['environment_data']['packaging']['element_emballage']['element']\n",
    "        materials = product['environment_data']['packaging']['element_emballage']['material']\n",
    "        \n",
    "        # Limpiar y combinar los elementos y materiales\n",
    "        cleaned_elements, cleaned_materials = clean_element_emballage(elements, materials)\n",
    "        combined_packaging = combine_elements_and_materials(cleaned_elements, cleaned_materials)\n",
    "        \n",
    "        # Sobreescribir 'element_emballage' con la lista combinada\n",
    "        product['environment_data']['packaging']['element_emballage'] = combined_packaging\n",
    "    \n",
    "    # Guardar el JSON modificado con codificación utf-8\n",
    "    with open(file_path, 'w', encoding='utf-8') as file:\n",
    "        json.dump(data, file, ensure_ascii=False, indent=4)\n",
    "\n"
   ]
  },
  {
   "cell_type": "code",
   "execution_count": 5,
   "metadata": {},
   "outputs": [],
   "source": [
    "import os"
   ]
  },
  {
   "cell_type": "code",
   "execution_count": 6,
   "metadata": {},
   "outputs": [],
   "source": [
    "path = 'open_food/data/'\n",
    "\n",
    "#for file in os.listdir('open_food/data'):\n",
    "#    update_json_file(path + file)"
   ]
  },
  {
   "cell_type": "code",
   "execution_count": 7,
   "metadata": {},
   "outputs": [],
   "source": [
    "def concatenate_json_files(input_files, output_file):\n",
    "    combined_data = []\n",
    "\n",
    "    # Leer y combinar el contenido de cada archivo JSON\n",
    "    for file_path in input_files:\n",
    "        with open(file_path, 'r', encoding='utf-8') as file:\n",
    "            data = json.load(file)\n",
    "            combined_data.extend(data)  # Asume que cada archivo contiene una lista de elementos\n",
    "\n",
    "    # Guardar los datos combinados en un nuevo archivo JSON\n",
    "    with open(output_file, 'w', encoding='utf-8') as file:\n",
    "        json.dump(combined_data, file, ensure_ascii=False, indent=4)"
   ]
  },
  {
   "cell_type": "code",
   "execution_count": 8,
   "metadata": {},
   "outputs": [],
   "source": [
    "input_files = ['open_food/data/'+file for file in os.listdir('open_food/data')]\n",
    "output_file = 'open_food/data/total_open_food.json'"
   ]
  },
  {
   "cell_type": "code",
   "execution_count": 9,
   "metadata": {},
   "outputs": [],
   "source": [
    "concatenate_json_files(input_files, output_file)"
   ]
  },
  {
   "cell_type": "code",
   "execution_count": 10,
   "metadata": {},
   "outputs": [],
   "source": [
    "def remove_duplicates(file_path):\n",
    "    with open(file_path, 'r', encoding='utf-8') as file:\n",
    "        products = json.load(file)\n",
    "\n",
    "    seen_barcodes = set()\n",
    "    unique_products = []\n",
    "\n",
    "    for product in products:\n",
    "        bar_code = product['basic_data'].get('bar_code')\n",
    "        if bar_code and bar_code not in seen_barcodes:\n",
    "            unique_products.append(product)\n",
    "            seen_barcodes.add(bar_code)\n",
    "\n",
    "    return unique_products\n",
    "\n",
    "def save_to_file(data, output_path):\n",
    "    with open(output_path, 'w', encoding='utf-8') as file:\n",
    "        json.dump(data, file, ensure_ascii=False, indent=4)"
   ]
  },
  {
   "cell_type": "code",
   "execution_count": 11,
   "metadata": {},
   "outputs": [],
   "source": [
    "input_file_path = 'open_food/data/total_open_food.json'\n",
    "output_file_path = 'total_unique_products.json'\n",
    "\n",
    "unique_products = remove_duplicates(input_file_path)\n",
    "save_to_file(unique_products, output_file_path)"
   ]
  }
 ],
 "metadata": {
  "kernelspec": {
   "display_name": "venv",
   "language": "python",
   "name": "python3"
  },
  "language_info": {
   "codemirror_mode": {
    "name": "ipython",
    "version": 3
   },
   "file_extension": ".py",
   "mimetype": "text/x-python",
   "name": "python",
   "nbconvert_exporter": "python",
   "pygments_lexer": "ipython3",
   "version": "3.9.13"
  }
 },
 "nbformat": 4,
 "nbformat_minor": 2
}
